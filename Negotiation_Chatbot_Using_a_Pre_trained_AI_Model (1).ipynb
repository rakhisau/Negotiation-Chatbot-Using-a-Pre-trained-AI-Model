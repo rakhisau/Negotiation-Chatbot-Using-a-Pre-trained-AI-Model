{
  "cells": [
    {
      "cell_type": "code",
      "execution_count": null,
      "metadata": {
        "id": "65hreNCsFPeC"
      },
      "outputs": [],
      "source": [
        "import google.generativeai as genai\n",
        "import os\n",
        "model = genai.GenerativeModel('gemini-1.5-flash')\n",
        "\n",
        "GEMINI_API_KEY = \"Gemini api key\"  # Replace with your actual key\n",
        "\n",
        "genai.configure(api_key=GEMINI_API_KEY)\n",
        "\n",
        "#response = model.generate_content(\"The opposite of hot is\")\n",
        "#print(response.text)\n"
      ]
    },
    {
      "cell_type": "code",
      "execution_count": null,
      "metadata": {
        "colab": {
          "background_save": true,
          "base_uri": "https://localhost:8080/"
        },
        "id": "ur4kOi679wzL",
        "outputId": "5165f335-c006-4d0e-eefb-2f8f1d02e51e"
      },
      "outputs": [
        {
          "name": "stdout",
          "output_type": "stream",
          "text": [
            "Bot: Welcome! The price for this product is $100. Would you like to proceed with this price, or make an offer?\n",
            "Bot: I understand. What price would work for you?\n",
            "Bot: I can offer you a discount. How does $95 sound?\n",
            "Bot: Sorry, I cannot go lower than $90. Would you be willing to meet at that price?\n"
          ]
        }
      ],
      "source": [
        "def negotiate_price(user_message, current_offer, final_offer):\n",
        "    base_price = 100  # Initial product price\n",
        "    min_price = 90    # Minimum price the supplier can accept\n",
        "\n",
        "    # Basic negotiation flow logic based on the user message\n",
        "    if \"yes\" in user_message.lower():\n",
        "        return f\"Great! We’ll proceed with the order at ${final_offer}.\"\n",
        "\n",
        "    elif \"too expensive\" in user_message.lower():\n",
        "        return \"I understand. What price would work for you?\"\n",
        "\n",
        "    elif \"No, that’s too expensive.\" in user_message:\n",
        "        return \"I understand. What price would work for you?\"\n",
        "\n",
        "    elif \"discount\" in user_message.lower():\n",
        "        return \"I can offer you a discount. How does $95 sound?\"\n",
        "\n",
        "    elif \"offer\" in user_message.lower():\n",
        "        user_offer = extract_offer(user_message)  # Extract numeric offer\n",
        "        if user_offer == 90:\n",
        "            return \"Let me check. I can offer you a counteroffer at $95. Would you like to accept?\"\n",
        "        elif user_offer >= base_price:\n",
        "            return f\"Great! We’ll proceed with the order at ${user_offer}.\"\n",
        "        elif user_offer >= min_price:\n",
        "            return f\"I see that you're offering ${user_offer}, but the best I can do is $95. Would you like to proceed?\"\n",
        "        else:\n",
        "            return f\"Sorry, I cannot go lower than ${min_price}. Would you be willing to meet at that price?\"\n",
        "\n",
        "    elif \"lowest price\" in user_message.lower():\n",
        "        return \"The lowest I can go is $90. How does that sound to you?\"\n",
        "\n",
        "    elif \"still too high\" in user_message.lower():\n",
        "        return \"I understand. How about $90 as a final offer?\"\n",
        "\n",
        "    elif \"make it $85\" in user_message.lower():\n",
        "        return \"Unfortunately, $85 is below my acceptable range. The lowest I can go is $90. Would that work?\"\n",
        "\n",
        "    elif \"finalize\" in user_message.lower():\n",
        "        return f\"Great! I'll finalize the order for you at ${final_offer}. Thank you for negotiating with us!\"\n",
        "\n",
        "    else:\n",
        "        return gemini_generate_response(user_message)  # Fallback to AI model\n",
        "\n",
        "# Function to extract the price offer from the user's message\n",
        "def extract_offer(user_message):\n",
        "    # Find the first number in the message (assuming it’s the offered price)\n",
        "    words = user_message.split()\n",
        "    for word in words:\n",
        "        if word.isdigit():\n",
        "            return int(word)\n",
        "    return 0  # Return 0 if no offer found\n",
        "\n",
        "# Function to call the Gemini API for response generation\n",
        "def gemini_generate_response(user_message):\n",
        "    # Generate content using the correct method for Gemini API\n",
        "    response = model.generate_text(\n",
        "        prompt=f\"You are a supplier negotiating product prices. User: {user_message}\"\n",
        "    )\n",
        "    # Adjust the response handling based on API format\n",
        "    return response.result  # This assumes 'result' holds the response text\n",
        "\n",
        "# Main conversation flow function\n",
        "def conversation_flow():\n",
        "    current_offer = 100  # Initial product price\n",
        "    final_offer = 100    # This will track the final negotiated price\n",
        "    print(f\"Bot: Welcome! The price for this product is ${current_offer}. Would you like to proceed with this price, or make an offer?\")\n",
        "\n",
        "    while True:\n",
        "        user_message = input(\"You: \")\n",
        "\n",
        "        if \"no\" in user_message.lower() and \"too expensive\" not in user_message.lower():\n",
        "            print(\"Bot: Thank you for your time. Feel free to reach out if you change your mind.\")\n",
        "            break\n",
        "\n",
        "        elif \"changed my mind\" in user_message.lower():\n",
        "            print(\"Bot: No worries! Let me know if you need any assistance in the future.\")\n",
        "            break\n",
        "\n",
        "        else:\n",
        "            bot_response = negotiate_price(user_message, current_offer, final_offer)\n",
        "            print(f\"Bot: {bot_response}\")\n",
        "\n",
        "            # Update final offer if user accepts an offer\n",
        "            if \"Great! We’ll proceed with the order at\" in bot_response:\n",
        "                final_offer = extract_offer(bot_response)  # Update final offer based on response\n",
        "\n",
        "            # Handle finalization or proceed logic\n",
        "            if \"Great! I'll finalize the order\" in bot_response:\n",
        "                break\n",
        "            if \"proceed\" in bot_response.lower():\n",
        "                break\n",
        "\n",
        "# Run the chatbot conversation\n",
        "conversation_flow()"
      ]
    },
    {
      "cell_type": "code",
      "source": [],
      "metadata": {
        "id": "rEw6j4XZPfav"
      },
      "execution_count": null,
      "outputs": []
    }
  ],
  "metadata": {
    "colab": {
      "provenance": []
    },
    "kernelspec": {
      "display_name": "Python 3",
      "name": "python3"
    },
    "language_info": {
      "name": "python"
    }
  },
  "nbformat": 4,
  "nbformat_minor": 0
}